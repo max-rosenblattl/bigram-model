{
 "cells": [
  {
   "cell_type": "code",
   "execution_count": 186,
   "metadata": {},
   "outputs": [],
   "source": [
    "# Exercise 1: train a trigram language model, i.e. \n",
    "# take two characters as an input to predict the 3rd one. \n",
    "# Feel free to use either counting or a neural net. \n",
    "# Evaluate the loss; Did it improve over a bigram model?\n",
    "\n",
    "import torch\n",
    "from itertools import product"
   ]
  },
  {
   "cell_type": "code",
   "execution_count": 187,
   "metadata": {},
   "outputs": [],
   "source": [
    "words = open('names.txt', 'r').read().splitlines()"
   ]
  },
  {
   "cell_type": "code",
   "execution_count": 188,
   "metadata": {},
   "outputs": [],
   "source": [
    "chars = set(''.join(words))\n",
    "chars.add('.')\n",
    "chars = sorted(chars)\n",
    "combs = sorted([''.join(comb) for comb in product(chars, repeat=2)])\n",
    "\n",
    "stoi = {s:i for i,s in enumerate(chars)}\n",
    "ctoi = {c:i for i,c in enumerate(combs)}\n",
    "\n",
    "itos = {s:i for i,s in stoi.items()}\n",
    "itoc = {c:i for i,c in ctoi.items()}"
   ]
  },
  {
   "cell_type": "code",
   "execution_count": 189,
   "metadata": {},
   "outputs": [
    {
     "name": "stdout",
     "output_type": "stream",
     "text": [
      "['..', '.e', 'em', 'mm', 'ma', 'a.']\n",
      ".. e\n",
      ".e m\n",
      "em m\n",
      "mm a\n",
      "ma .\n",
      "tensor([  0,   5, 148, 364, 352])\n",
      "tensor([ 5, 13, 13,  1,  0])\n"
     ]
    }
   ],
   "source": [
    "xs, ys = [], []\n",
    "\n",
    "for w in words[:1]:\n",
    "    end = len(w) - 1\n",
    "    combs = ['..'] + ['.' + w[0]] + [w[i] + w[i+1] for i in range(end)] + [w[end] + '.']\n",
    "    print(combs)\n",
    "\n",
    "    for comb, ch in zip(combs, combs[1:]):\n",
    "        print(comb, ch[1])\n",
    "        row = ctoi[comb]\n",
    "        col = stoi[ch[1]]\n",
    "        xs.append(row)\n",
    "        ys.append(col)\n",
    "\n",
    "xs = torch.tensor(xs)\n",
    "ys = torch.tensor(ys)\n",
    "num = xs.nelement()\n",
    "\n",
    "print(xs)\n",
    "print(ys)\n",
    "\n",
    "g = torch.Generator().manual_seed(2147483647)\n",
    "W = torch.randn((729, 27), generator=g, requires_grad=True)"
   ]
  },
  {
   "cell_type": "code",
   "execution_count": 190,
   "metadata": {},
   "outputs": [
    {
     "data": {
      "text/plain": [
       "torch.Size([5, 729])"
      ]
     },
     "execution_count": 190,
     "metadata": {},
     "output_type": "execute_result"
    }
   ],
   "source": [
    "import torch.nn.functional as F\n",
    "xenc = F.one_hot(xs, num_classes=729).float()\n",
    "xenc.shape"
   ]
  },
  {
   "cell_type": "code",
   "execution_count": 200,
   "metadata": {},
   "outputs": [
    {
     "name": "stdout",
     "output_type": "stream",
     "text": [
      "0.007134473416954279\n",
      "0.007123799528926611\n",
      "0.007113209925591946\n",
      "0.007102536968886852\n",
      "0.007091984152793884\n",
      "0.007081382907927036\n",
      "0.007070890162140131\n",
      "0.007060445845127106\n",
      "0.00704996520653367\n",
      "0.007039508316665888\n",
      "0.007029184140264988\n",
      "0.007018847856670618\n",
      "0.0070084393955767155\n",
      "0.006998151540756226\n",
      "0.006987899541854858\n",
      "0.006977671291679144\n",
      "0.006967479828745127\n",
      "0.0069572762586176395\n",
      "0.006947144865989685\n",
      "0.006937037222087383\n",
      "0.006926918867975473\n",
      "0.006916834972798824\n",
      "0.006906835827976465\n",
      "0.006896813400089741\n",
      "0.006886885967105627\n",
      "0.006876851432025433\n",
      "0.0068669975735247135\n",
      "0.00685708224773407\n",
      "0.0068472521379590034\n",
      "0.006837374065071344\n",
      "0.006827604025602341\n",
      "0.006817785557359457\n",
      "0.006808075122535229\n",
      "0.006798353977501392\n",
      "0.006788596510887146\n",
      "0.006778995040804148\n",
      "0.006769356783479452\n",
      "0.006759719457477331\n",
      "0.006750178523361683\n",
      "0.006740637123584747\n",
      "0.006731107831001282\n",
      "0.006721530109643936\n",
      "0.006712096743285656\n",
      "0.00670264009386301\n",
      "0.006693220231682062\n",
      "0.006683822721242905\n",
      "0.006674474570900202\n",
      "0.006665138062089682\n",
      "0.006655802018940449\n",
      "0.006646548397839069\n",
      "0.0066372728906571865\n",
      "0.006627984344959259\n",
      "0.006618792656809092\n",
      "0.006609635893255472\n",
      "0.006600444205105305\n",
      "0.006591336335986853\n",
      "0.006582216825336218\n",
      "0.006573133170604706\n",
      "0.006564049515873194\n",
      "0.006554965861141682\n",
      "0.006546014454215765\n",
      "0.006536991335451603\n",
      "0.006528003606945276\n",
      "0.006519136019051075\n",
      "0.006510220468044281\n",
      "0.006501305848360062\n",
      "0.006492427084594965\n",
      "0.006483548320829868\n",
      "0.00647483766078949\n",
      "0.006465970538556576\n",
      "0.0064572119154036045\n",
      "0.006448416970670223\n",
      "0.006439743097871542\n",
      "0.006431044079363346\n",
      "0.0064223697409033775\n",
      "0.006413731724023819\n",
      "0.006405009888112545\n",
      "0.0063964552246034145\n",
      "0.006387889385223389\n",
      "0.006379358470439911\n",
      "0.006370793096721172\n",
      "0.0063623106107115746\n",
      "0.006353805307298899\n",
      "0.006345347501337528\n",
      "0.006336829625070095\n",
      "0.006328420247882605\n",
      "0.0063200099393725395\n",
      "0.006311672739684582\n",
      "0.006303299218416214\n",
      "0.006294974125921726\n",
      "0.006286672316491604\n",
      "0.006278347223997116\n",
      "0.006270105484873056\n",
      "0.006261829286813736\n",
      "0.006253647617995739\n",
      "0.006245383061468601\n",
      "0.006237237714231014\n",
      "0.006229081191122532\n",
      "0.0062208641320466995\n",
      "0.0062127793207764626\n"
     ]
    }
   ],
   "source": [
    "for k in range(100):\n",
    "    xenc = F.one_hot(xs, num_classes=729).float()\n",
    "    logits = xenc @ W\n",
    "    counts = logits.exp()\n",
    "    probs = counts / counts.sum(dim=1, keepdim=True)\n",
    "    loss = -probs[torch.arange(num), ys].log().mean()\n",
    "    print(loss.item())\n",
    "    \n",
    "    W.grad = None\n",
    "    loss.backward()\n",
    "    W.data += -1 * W.grad\n"
   ]
  },
  {
   "cell_type": "code",
   "execution_count": 201,
   "metadata": {},
   "outputs": [
    {
     "name": "stdout",
     "output_type": "stream",
     "text": [
      "tensor([0.9939, 0.9938, 0.9938, 0.9939, 0.9938], grad_fn=<IndexBackward0>)\n"
     ]
    }
   ],
   "source": [
    "print(probs[torch.arange(5), ys[:5]])"
   ]
  },
  {
   "cell_type": "code",
   "execution_count": 202,
   "metadata": {},
   "outputs": [
    {
     "name": "stdout",
     "output_type": "stream",
     "text": [
      "emma.\n",
      "emma.\n",
      "emma.\n",
      "emma.\n",
      "emma.\n"
     ]
    }
   ],
   "source": [
    "# Sample from the 'neural net' model\n",
    "g = torch.Generator().manual_seed(2147483647)\n",
    "\n",
    "for i in range(5): \n",
    "    out = []\n",
    "    ix = 0\n",
    "    while True:\n",
    "        xenc = F.one_hot(torch.tensor([ix]), num_classes=729).float()\n",
    "        logits = xenc @ W\n",
    "        counts = logits.exp()\n",
    "        p = counts / counts.sum(dim=1, keepdim=True)\n",
    "\n",
    "        old_comb = itoc[ix]\n",
    "        ix_ch = torch.multinomial(p, num_samples=1, replacement=True, generator=g).item()\n",
    "        ch = itos[ix_ch]\n",
    "        comb = old_comb[1] + ch\n",
    "        ix = ctoi[comb]\n",
    "\n",
    "        out.append(itoc[ix][1])\n",
    "        if itoc[ix][1] == '.':\n",
    "            break\n",
    "    print(''.join(out))"
   ]
  },
  {
   "cell_type": "code",
   "execution_count": null,
   "metadata": {},
   "outputs": [],
   "source": []
  }
 ],
 "metadata": {
  "kernelspec": {
   "display_name": "Python 3",
   "language": "python",
   "name": "python3"
  },
  "language_info": {
   "codemirror_mode": {
    "name": "ipython",
    "version": 3
   },
   "file_extension": ".py",
   "mimetype": "text/x-python",
   "name": "python",
   "nbconvert_exporter": "python",
   "pygments_lexer": "ipython3",
   "version": "3.11.6"
  }
 },
 "nbformat": 4,
 "nbformat_minor": 2
}
